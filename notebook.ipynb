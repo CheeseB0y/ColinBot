{
 "cells": [
  {
   "cell_type": "code",
   "execution_count": 1,
   "metadata": {},
   "outputs": [],
   "source": [
    "import pandas as pd"
   ]
  },
  {
   "cell_type": "code",
   "execution_count": 2,
   "metadata": {},
   "outputs": [],
   "source": [
    "spacebois=pd.read_csv(\"data/Space Bois.csv\")\n",
    "lolis=pd.read_csv(\"data/loli's with autism.csv\")\n",
    "minecraft=pd.read_csv(\"data/Minecraft Boyz.csv\")\n",
    "oinkers=pd.read_csv(\"data/Oinkers Inc.csv\")\n",
    "prolapse=pd.read_csv(\"data/prolapsed jared.csv\")"
   ]
  },
  {
   "cell_type": "code",
   "execution_count": 3,
   "metadata": {},
   "outputs": [],
   "source": [
    "spacebois = spacebois.drop(spacebois[spacebois['channel_id'] == 790680361885106186].index)\n",
    "spacebois = spacebois.drop(spacebois[spacebois['channel_id'] == 375823062920069130].index)\n",
    "lolis = lolis.drop(lolis[lolis['channel_id'] == 184344330058727424].index)\n",
    "oinkers = oinkers.drop(oinkers[oinkers['channel_id'] == 1075931239145545760].index)"
   ]
  },
  {
   "cell_type": "code",
   "execution_count": 4,
   "metadata": {},
   "outputs": [],
   "source": [
    "df = pd.concat([spacebois, lolis, minecraft, oinkers, prolapse])"
   ]
  },
  {
   "cell_type": "code",
   "execution_count": 5,
   "metadata": {},
   "outputs": [
    {
     "data": {
      "text/plain": [
       "176    https://skribbl.io/?QmFkMc1LjKgt\n",
       "177    https://skribbl.io/?3ZWP28kCo3q5\n",
       "231    <@!115936309150744581> come back\n",
       "232                           meat game\n",
       "233    https://skribbl.io/?Te1R7jVaco53\n",
       "                     ...               \n",
       "3               ok are they not worthy?\n",
       "4                      that sounds good\n",
       "5                          what is this\n",
       "6                                 hello\n",
       "7                                   NaN\n",
       "Name: content, Length: 928, dtype: object"
      ]
     },
     "execution_count": 5,
     "metadata": {},
     "output_type": "execute_result"
    }
   ],
   "source": [
    "df.content"
   ]
  },
  {
   "cell_type": "code",
   "execution_count": 6,
   "metadata": {},
   "outputs": [],
   "source": [
    "pd.DataFrame.to_csv(df, 'messages.csv', sep=',', na_rep='.', index=False)"
   ]
  }
 ],
 "metadata": {
  "kernelspec": {
   "display_name": "Python 3",
   "language": "python",
   "name": "python3"
  },
  "language_info": {
   "codemirror_mode": {
    "name": "ipython",
    "version": 3
   },
   "file_extension": ".py",
   "mimetype": "text/x-python",
   "name": "python",
   "nbconvert_exporter": "python",
   "pygments_lexer": "ipython3",
   "version": "3.10.7"
  }
 },
 "nbformat": 4,
 "nbformat_minor": 2
}
